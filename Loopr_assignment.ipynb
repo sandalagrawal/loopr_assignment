{
 "cells": [
  {
   "cell_type": "code",
   "execution_count": 7,
   "id": "43cb26c0",
   "metadata": {},
   "outputs": [],
   "source": [
    "import os\n",
    "import pandas as pd\n",
    "import numpy as np\n",
    "import seaborn as sns\n",
    "import matplotlib.pyplot as plt\n"
   ]
  },
  {
   "cell_type": "markdown",
   "id": "48f73e12",
   "metadata": {},
   "source": [
    "## loading the dataset\n",
    "### as the dataset is in zip file format, we try to unzip the file."
   ]
  },
  {
   "cell_type": "code",
   "execution_count": 17,
   "id": "bbb5f7aa",
   "metadata": {},
   "outputs": [],
   "source": [
    "import zipfile"
   ]
  },
  {
   "cell_type": "code",
   "execution_count": 19,
   "id": "9de570e5",
   "metadata": {},
   "outputs": [
    {
     "ename": "FileNotFoundError",
     "evalue": "[Errno 2] No such file or directory: 'loopr_vit_dse_assignment_data.zip'",
     "output_type": "error",
     "traceback": [
      "\u001b[1;31m---------------------------------------------------------------------------\u001b[0m",
      "\u001b[1;31mFileNotFoundError\u001b[0m                         Traceback (most recent call last)",
      "Cell \u001b[1;32mIn [19], line 1\u001b[0m\n\u001b[1;32m----> 1\u001b[0m \u001b[38;5;28;01mwith\u001b[39;00m \u001b[43mzipfile\u001b[49m\u001b[38;5;241;43m.\u001b[39;49m\u001b[43mZipFile\u001b[49m\u001b[43m(\u001b[49m\u001b[38;5;124;43m'\u001b[39;49m\u001b[38;5;124;43mloopr_vit_dse_assignment_data.zip\u001b[39;49m\u001b[38;5;124;43m'\u001b[39;49m\u001b[43m,\u001b[49m\u001b[38;5;124;43m'\u001b[39;49m\u001b[38;5;124;43mr\u001b[39;49m\u001b[38;5;124;43m'\u001b[39;49m\u001b[43m)\u001b[49m \u001b[38;5;28;01mas\u001b[39;00m zip_ref:\n\u001b[0;32m      2\u001b[0m     zip_ref\u001b[38;5;241m.\u001b[39mextractall()\n",
      "File \u001b[1;32m~\\.conda\\envs\\Loopr\\lib\\zipfile.py:1248\u001b[0m, in \u001b[0;36mZipFile.__init__\u001b[1;34m(self, file, mode, compression, allowZip64, compresslevel, strict_timestamps)\u001b[0m\n\u001b[0;32m   1246\u001b[0m \u001b[38;5;28;01mwhile\u001b[39;00m \u001b[38;5;28;01mTrue\u001b[39;00m:\n\u001b[0;32m   1247\u001b[0m     \u001b[38;5;28;01mtry\u001b[39;00m:\n\u001b[1;32m-> 1248\u001b[0m         \u001b[38;5;28mself\u001b[39m\u001b[38;5;241m.\u001b[39mfp \u001b[38;5;241m=\u001b[39m \u001b[43mio\u001b[49m\u001b[38;5;241;43m.\u001b[39;49m\u001b[43mopen\u001b[49m\u001b[43m(\u001b[49m\u001b[43mfile\u001b[49m\u001b[43m,\u001b[49m\u001b[43m \u001b[49m\u001b[43mfilemode\u001b[49m\u001b[43m)\u001b[49m\n\u001b[0;32m   1249\u001b[0m     \u001b[38;5;28;01mexcept\u001b[39;00m \u001b[38;5;167;01mOSError\u001b[39;00m:\n\u001b[0;32m   1250\u001b[0m         \u001b[38;5;28;01mif\u001b[39;00m filemode \u001b[38;5;129;01min\u001b[39;00m modeDict:\n",
      "\u001b[1;31mFileNotFoundError\u001b[0m: [Errno 2] No such file or directory: 'loopr_vit_dse_assignment_data.zip'"
     ]
    }
   ],
   "source": [
    "with zipfile.ZipFile('loopr_vit_dse_assignment_data.zip','r') as zip_ref:\n",
    "    zip_ref.extractall()"
   ]
  },
  {
   "cell_type": "markdown",
   "id": "df03aab4",
   "metadata": {},
   "source": [
    "### since we are using anaconda, the base environment could not support tensorflow. So we created a new virtual environment to build and run our model"
   ]
  },
  {
   "cell_type": "code",
   "execution_count": 12,
   "id": "2888210a",
   "metadata": {},
   "outputs": [],
   "source": [
    "import tensorflow as tf\n",
    "from tensorflow import keras\n",
    "from tensorflow.keras.layers import Dense, Input, InputLayer, Flatten\n",
    "from tensorflow.keras.models import Sequential, Model"
   ]
  },
  {
   "cell_type": "code",
   "execution_count": 13,
   "id": "16c3b133",
   "metadata": {},
   "outputs": [],
   "source": [
    "import glob\n",
    "path = '../input/chess-pieces-detection-images-dataset'\n",
    "path_img = list(glob.glob(path+'/**/*.jpg'))\n",
    "# we use glob to return all file paths that match the specified pattern, for all the files\n",
    "\n"
   ]
  },
  {
   "cell_type": "markdown",
   "id": "2c9168ec",
   "metadata": {},
   "source": [
    "### creating labels and putting our dataset into data frames"
   ]
  },
  {
   "cell_type": "code",
   "execution_count": 15,
   "id": "99d6a03d",
   "metadata": {},
   "outputs": [],
   "source": [
    "#df = pd.read_csv(r\"C:\\Users\\lenovo\\loopr_ai_assignment\\dataset\")"
   ]
  },
  {
   "cell_type": "code",
   "execution_count": 16,
   "id": "99291811",
   "metadata": {},
   "outputs": [],
   "source": [
    "labels = list(map(lambda x:os.path.split(os.path.split(x)[0])[1], path_img))\n"
   ]
  },
  {
   "cell_type": "code",
   "execution_count": 29,
   "id": "34f7db85",
   "metadata": {},
   "outputs": [],
   "source": [
    "file_path = pd.Series(path_img, name='File_Path',dtype='float64').astype(str)"
   ]
  },
  {
   "cell_type": "code",
   "execution_count": 31,
   "id": "efbd0a21",
   "metadata": {},
   "outputs": [],
   "source": [
    "labels = pd.Series(labels, name='Labels',dtype='float64')"
   ]
  },
  {
   "cell_type": "code",
   "execution_count": 32,
   "id": "f751ff83",
   "metadata": {},
   "outputs": [
    {
     "data": {
      "text/html": [
       "<div>\n",
       "<style scoped>\n",
       "    .dataframe tbody tr th:only-of-type {\n",
       "        vertical-align: middle;\n",
       "    }\n",
       "\n",
       "    .dataframe tbody tr th {\n",
       "        vertical-align: top;\n",
       "    }\n",
       "\n",
       "    .dataframe thead th {\n",
       "        text-align: right;\n",
       "    }\n",
       "</style>\n",
       "<table border=\"1\" class=\"dataframe\">\n",
       "  <thead>\n",
       "    <tr style=\"text-align: right;\">\n",
       "      <th></th>\n",
       "      <th>File_Path</th>\n",
       "      <th>Labels</th>\n",
       "    </tr>\n",
       "  </thead>\n",
       "  <tbody>\n",
       "  </tbody>\n",
       "</table>\n",
       "</div>"
      ],
      "text/plain": [
       "Empty DataFrame\n",
       "Columns: [File_Path, Labels]\n",
       "Index: []"
      ]
     },
     "execution_count": 32,
     "metadata": {},
     "output_type": "execute_result"
    }
   ],
   "source": [
    "data = pd.concat([file_path, labels], axis=1)\n",
    "data = data.sample(frac=1).reset_index(drop=True)\n",
    "data.head()"
   ]
  },
  {
   "cell_type": "markdown",
   "id": "82a2a438",
   "metadata": {},
   "source": [
    "### To perform EDA and Visualization"
   ]
  },
  {
   "cell_type": "code",
   "execution_count": 27,
   "id": "585ed8bd",
   "metadata": {},
   "outputs": [
    {
     "ename": "NameError",
     "evalue": "name 'data' is not defined",
     "output_type": "error",
     "traceback": [
      "\u001b[1;31m---------------------------------------------------------------------------\u001b[0m",
      "\u001b[1;31mNameError\u001b[0m                                 Traceback (most recent call last)",
      "Cell \u001b[1;32mIn [27], line 4\u001b[0m\n\u001b[0;32m      1\u001b[0m \u001b[38;5;28;01mimport\u001b[39;00m \u001b[38;5;21;01mstreamlit\u001b[39;00m \u001b[38;5;28;01mas\u001b[39;00m \u001b[38;5;21;01mst\u001b[39;00m\n\u001b[0;32m      3\u001b[0m fig, ax \u001b[38;5;241m=\u001b[39m plt\u001b[38;5;241m.\u001b[39msubplots()\n\u001b[1;32m----> 4\u001b[0m ax\u001b[38;5;241m.\u001b[39mbarh(\u001b[43mdata\u001b[49m\u001b[38;5;241m.\u001b[39mfile_path,data\u001b[38;5;241m.\u001b[39mlabel)\n\u001b[0;32m      5\u001b[0m plt\u001b[38;5;241m.\u001b[39mxticks(rotation\u001b[38;5;241m=\u001b[39m\u001b[38;5;124m'\u001b[39m\u001b[38;5;124mvertical\u001b[39m\u001b[38;5;124m'\u001b[39m)\n\u001b[0;32m      8\u001b[0m st\u001b[38;5;241m.\u001b[39mtitle(\u001b[38;5;124m'\u001b[39m\u001b[38;5;124mEDA\u001b[39m\u001b[38;5;124m'\u001b[39m)\n",
      "\u001b[1;31mNameError\u001b[0m: name 'data' is not defined"
     ]
    },
    {
     "data": {
      "image/png": "[encoded data removed]",
      "text/plain": [
       "<Figure size 640x480 with 1 Axes>"
      ]
     },
     "metadata": {},
     "output_type": "display_data"
    }
   ],
   "source": [
    "import streamlit as st\n",
    "\n",
    "fig, ax = plt.subplots()\n",
    "ax.barh(data.file_path,data.label)\n",
    "plt.xticks(rotation='vertical')\n",
    "\n",
    "\n",
    "st.title('EDA')\n",
    "\n",
    "st.pyplot(fig)"
   ]
  },
  {
   "cell_type": "code",
   "execution_count": 25,
   "id": "39dc873d",
   "metadata": {},
   "outputs": [
    {
     "ename": "NameError",
     "evalue": "name 'data' is not defined",
     "output_type": "error",
     "traceback": [
      "\u001b[1;31m---------------------------------------------------------------------------\u001b[0m",
      "\u001b[1;31mNameError\u001b[0m                                 Traceback (most recent call last)",
      "Cell \u001b[1;32mIn [25], line 1\u001b[0m\n\u001b[1;32m----> 1\u001b[0m counts \u001b[38;5;241m=\u001b[39m \u001b[43mdata\u001b[49m\u001b[38;5;241m.\u001b[39mLabels\u001b[38;5;241m.\u001b[39mvalue_counts()\n\u001b[0;32m      2\u001b[0m sns\u001b[38;5;241m.\u001b[39mdistplot(x\u001b[38;5;241m=\u001b[39mcounts\u001b[38;5;241m.\u001b[39mindex, y\u001b[38;5;241m=\u001b[39mcounts)\n\u001b[0;32m      3\u001b[0m plt\u001b[38;5;241m.\u001b[39mxlabel(\u001b[38;5;124m'\u001b[39m\u001b[38;5;124mLabels\u001b[39m\u001b[38;5;124m'\u001b[39m)\n",
      "\u001b[1;31mNameError\u001b[0m: name 'data' is not defined"
     ]
    }
   ],
   "source": [
    "#visualization\n",
    "\n",
    "counts = data.Labels.value_counts()\n",
    "sns.distplot(x=counts.index, y=counts)\n",
    "plt.xlabel('Labels')\n",
    "plt.ylabel('Count')\n",
    "plt.xticks(rotation=15);"
   ]
  },
  {
   "cell_type": "code",
   "execution_count": 29,
   "id": "f9bbbd83",
   "metadata": {},
   "outputs": [
    {
     "ename": "ModuleNotFoundError",
     "evalue": "No module named 'sklearn'",
     "output_type": "error",
     "traceback": [
      "\u001b[1;31m---------------------------------------------------------------------------\u001b[0m",
      "\u001b[1;31mModuleNotFoundError\u001b[0m                       Traceback (most recent call last)",
      "Cell \u001b[1;32mIn [29], line 1\u001b[0m\n\u001b[1;32m----> 1\u001b[0m \u001b[38;5;28;01mfrom\u001b[39;00m \u001b[38;5;21;01msklearn\u001b[39;00m\u001b[38;5;21;01m.\u001b[39;00m\u001b[38;5;21;01mmodel_selection\u001b[39;00m \u001b[38;5;28;01mimport\u001b[39;00m train_test_split\n\u001b[0;32m      3\u001b[0m train_df, test_df \u001b[38;5;241m=\u001b[39m train_test_split(data, test_size\u001b[38;5;241m=\u001b[39m\u001b[38;5;241m0.2\u001b[39m, random_state\u001b[38;5;241m=\u001b[39m\u001b[38;5;241m1\u001b[39m)\n",
      "\u001b[1;31mModuleNotFoundError\u001b[0m: No module named 'sklearn'"
     ]
    }
   ],
   "source": [
    "from sklearn.model_selection import train_test_split\n",
    "\n",
    "train_df, test_df = train_test_split(data, test_size=0.2, random_state=1)"
   ]
  },
  {
   "cell_type": "code",
   "execution_count": null,
   "id": "ade441a3",
   "metadata": {},
   "outputs": [],
   "source": [
    "from tensorflow.keras.preprocessing.image import ImageDataGenerator\n",
    "from tensorflow.keras.layers import Dense\n",
    "from tensorflow.keras.models import Model\n",
    "from tensorflow.keras.callbacks import Callback, EarlyStopping\n",
    "from sklearn.metrics import confusion_matrix, classification_report"
   ]
  },
  {
   "cell_type": "code",
   "execution_count": null,
   "id": "166020c7",
   "metadata": {},
   "outputs": [],
   "source": [
    "def func(pre,name_model,size):\n",
    "    print('#####~Model => {} '.format(name_model))\n",
    "    train_datagen = ImageDataGenerator(preprocessing_function=pre, validation_split=0.2)\n",
    "    test_datagen = ImageDataGenerator(preprocessing_function=pre)\n",
    "    \n",
    "    train_gen = train_datagen.flow_from_dataframe(\n",
    "        dataframe=train_df,\n",
    "        x_col='File_Path',\n",
    "        y_col='Labels',\n",
    "        target_size=(size,size),\n",
    "        class_mode='categorical',\n",
    "        batch_size=32,\n",
    "        shuffle=True,\n",
    "        seed=0,\n",
    "        subset='training',\n",
    "        rotation_range=30,\n",
    "        zoom_range=0.15,\n",
    "        width_shift_range=0.2,\n",
    "        height_shift_range=0.2,\n",
    "        shear_range=0.15,\n",
    "        horizontal_flip=True,\n",
    "        fill_mode=\"nearest\")\n",
    "    valid_gen = train_datagen.flow_from_dataframe(\n",
    "        dataframe=train_df,\n",
    "        x_col='File_Path',\n",
    "        y_col='Labels',\n",
    "        target_size=(size,size),\n",
    "        class_mode='categorical',\n",
    "        batch_size=32,\n",
    "        shuffle=False,\n",
    "        seed=0,\n",
    "        subset='validation',\n",
    "        rotation_range=30,\n",
    "        zoom_range=0.15,\n",
    "        width_shift_range=0.2,\n",
    "        height_shift_range=0.2,\n",
    "        shear_range=0.15,\n",
    "        horizontal_flip=True,\n",
    "        fill_mode=\"nearest\")\n",
    "    test_gen = test_datagen.flow_from_dataframe(\n",
    "        dataframe=test_df,\n",
    "        x_col='File_Path',\n",
    "        y_col='Labels',\n",
    "        target_size=(size,size),\n",
    "        color_mode='rgb',\n",
    "        class_mode='categorical',\n",
    "        batch_size=32,\n",
    "        verbose=0,\n",
    "        shuffle=False)\n",
    "    \n",
    "    pre_model = name_model(input_shape=(size,size, 3),\n",
    "                   include_top=False,\n",
    "                   weights='imagenet',\n",
    "                   pooling='avg')\n",
    "    pre_model.trainable = False\n",
    "    inputs = pre_model.input\n",
    "    x = Dense(64, activation='relu')(pre_model.output)\n",
    "    x = Dense(64, activation='relu')(x)\n",
    "    outputs = Dense(5, activation='softmax')(x)\n",
    "    model = Model(inputs=inputs, outputs=outputs)\n",
    "    model.compile(loss = 'categorical_crossentropy',optimizer='Adam',metrics=['accuracy'])\n",
    "    my_callbacks  = [EarlyStopping(monitor='val_loss',\n",
    "                              min_delta=0,\n",
    "                              patience=5,\n",
    "                              mode='auto')]\n",
    "    \n",
    "    history = model.fit(train_gen,validation_data=valid_gen,epochs=100,callbacks=my_callbacks,verbose=0);\n",
    "    print('\\033[01m              Plotting Accuracy, val_accuracy, loss, val_loss \\033[0m')\n",
    "    # Plotting Accuracy, val_accuracy, loss, val_loss\n",
    "    fig, ax = plt.subplots(1, 2, figsize=(10, 3))\n",
    "    ax = ax.ravel()\n",
    "\n",
    "    for i, met in enumerate(['accuracy', 'loss']):\n",
    "        ax[i].plot(history.history[met])\n",
    "        ax[i].plot(history.history['val_' + met])\n",
    "        ax[i].set_title('Model {}'.format(met))\n",
    "        ax[i].set_xlabel('epochs')\n",
    "        ax[i].set_ylabel(met)\n",
    "        ax[i].legend(['Train', 'Validation'])\n",
    "    plt.show()\n",
    "    \n",
    "    # Predict Data Test\n",
    "    pred = model.predict(test_gen )\n",
    "    pred = np.argmax(pred,axis=1)\n",
    "    labels = (train_gen.class_indices)\n",
    "    labels = dict((v,k) for k,v in labels.items())\n",
    "    pred = [labels[k] for k in pred]\n",
    "    \n",
    "    print('\\033[01m              Classification_report \\033[0m')\n",
    "    # Classification report\n",
    "    cm=confusion_matrix(test_df.Labels,pred)\n",
    "    clr = classification_report(test_df.Labels, pred)\n",
    "    print(clr)\n",
    "    print('\\033[01m Display 6 pictures of the dataset with their labels \\033[0m')\n",
    "    # Display 6 pictures of the dataset with their labels\n",
    "    fig, axes = plt.subplots(nrows=2, ncols=3, figsize=(12, 8),\n",
    "                        subplot_kw={'xticks': [], 'yticks': []})\n",
    "\n",
    "    for i, ax in enumerate(axes.flat):\n",
    "        ax.imshow(plt.imread(test_df.File_Path.iloc[i+1]))\n",
    "        ax.set_title(f\"True: {test_df.Labels.iloc[i+1]}\\nPredicted: {pred[i+1]}\")\n",
    "    plt.tight_layout()\n",
    "    plt.show()\n",
    "    \n",
    "    print('\\033[01m              Results \\033[0m')\n",
    "    # Results\n",
    "    results = model.evaluate(test_gen, verbose=0)\n",
    "    print(\"    Test Loss:\\033[31m \\033[01m {:.5f} \\033[30m \\033[0m\".format(results[0]))\n",
    "    print(\"Test Accuracy:\\033[32m \\033[01m {:.2f}% \\033[30m \\033[0m\".format(results[1] * 100))\n",
    "    \n",
    "    return results"
   ]
  },
  {
   "cell_type": "code",
   "execution_count": null,
   "id": "7a7728d7",
   "metadata": {},
   "outputs": [],
   "source": [
    "from tensorflow.keras.applications import InceptionV3\n",
    "from tensorflow.keras.applications.inception_v3 import preprocess_input\n",
    "result_InceptionV3 = func(preprocess_input,InceptionV3,100)"
   ]
  },
  {
   "cell_type": "markdown",
   "id": "3d4674a5",
   "metadata": {},
   "source": [
    "## ResNet 50 Model"
   ]
  },
  {
   "cell_type": "code",
   "execution_count": null,
   "id": "83813db9",
   "metadata": {},
   "outputs": [],
   "source": [
    "from tensorflow.keras.applications import ResNet50\n",
    "from tensorflow.keras.applications.resnet import preprocess_input\n",
    "result_ResNet50 = func(preprocess_input,ResNet50,100)"
   ]
  },
  {
   "cell_type": "markdown",
   "id": "db4600eb",
   "metadata": {},
   "source": [
    "## ResNet 152"
   ]
  },
  {
   "cell_type": "code",
   "execution_count": null,
   "id": "e4ffa7f0",
   "metadata": {},
   "outputs": [],
   "source": [
    "from tensorflow.keras.applications import ResNet152\n",
    "from tensorflow.keras.applications.resnet import preprocess_input\n",
    "result_ResNet152 = func(preprocess_input,ResNet152,100)"
   ]
  },
  {
   "cell_type": "markdown",
   "id": "1e594770",
   "metadata": {},
   "source": [
    "## ResNet 101"
   ]
  },
  {
   "cell_type": "code",
   "execution_count": null,
   "id": "65ed1ae1",
   "metadata": {},
   "outputs": [],
   "source": [
    "from tensorflow.keras.applications import ResNet101V2\n",
    "from tensorflow.keras.applications.resnet_v2 import preprocess_input\n",
    "result_ResNet101V2 = func(preprocess_input,ResNet101V2,100)"
   ]
  },
  {
   "cell_type": "markdown",
   "id": "d071474c",
   "metadata": {},
   "source": [
    "## DenseNet "
   ]
  },
  {
   "cell_type": "code",
   "execution_count": null,
   "id": "2477f601",
   "metadata": {},
   "outputs": [],
   "source": [
    "from tensorflow.keras.applications import DenseNet201\n",
    "from tensorflow.keras.applications.densenet import preprocess_input\n",
    "result_DenseNet201 = func(preprocess_input,DenseNet201,100)"
   ]
  },
  {
   "cell_type": "markdown",
   "id": "fd33eb1d",
   "metadata": {},
   "source": [
    "## Conclusion"
   ]
  },
  {
   "cell_type": "code",
   "execution_count": null,
   "id": "b6ff60df",
   "metadata": {},
   "outputs": [],
   "source": [
    "plt.figure(figsize=(12, 7))\n",
    "plots = sns.barplot(x='Model', y='Accuracy', data=output)\n",
    "for bar in plots.patches:\n",
    "    plots.annotate(format(bar.get_height(), '.2f'),\n",
    "                   (bar.get_x() + bar.get_width() / 2,\n",
    "                    bar.get_height()), ha='center', va='center',\n",
    "                   size=15, xytext=(0, 8),\n",
    "                   textcoords='offset points')\n",
    "\n",
    "plt.xlabel(\"Models\")\n",
    "plt.ylabel(\"Accuracy\")\n",
    "plt.xticks(rotation=20);"
   ]
  },
  {
   "cell_type": "code",
   "execution_count": null,
   "id": "beaac563",
   "metadata": {},
   "outputs": [],
   "source": []
  }
 ],
 "metadata": {
  "kernelspec": {
   "display_name": "Python 3 (ipykernel)",
   "language": "python",
   "name": "python3"
  },
  "language_info": {
   "codemirror_mode": {
    "name": "ipython",
    "version": 3
   },
   "file_extension": ".py",
   "mimetype": "text/x-python",
   "name": "python",
   "nbconvert_exporter": "python",
   "pygments_lexer": "ipython3",
   "version": "3.9.13"
  }
 },
 "nbformat": 4,
 "nbformat_minor": 5
}
